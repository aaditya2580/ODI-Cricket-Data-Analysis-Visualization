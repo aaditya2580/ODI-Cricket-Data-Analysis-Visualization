{
  "nbformat": 4,
  "nbformat_minor": 0,
  "metadata": {
    "colab": {
      "provenance": [],
      "mount_file_id": "1qZZyEax0LfjrP4zfUnt240GGetqXVGcW",
      "authorship_tag": "ABX9TyMfiDSPgWA5za8MtORGMLzd",
      "include_colab_link": true
    },
    "kernelspec": {
      "name": "python3",
      "display_name": "Python 3"
    },
    "language_info": {
      "name": "python"
    }
  },
  "cells": [
    {
      "cell_type": "markdown",
      "metadata": {
        "id": "view-in-github",
        "colab_type": "text"
      },
      "source": [
        "<a href=\"https://colab.research.google.com/github/aaditya2580/ODI-Cricket-Data-Analysis-Visualization/blob/main/ODI_Cricket.ipynb\" target=\"_parent\"><img src=\"https://colab.research.google.com/assets/colab-badge.svg\" alt=\"Open In Colab\"/></a>"
      ]
    },
    {
      "cell_type": "code",
      "source": [
        "import pandas as pd\n",
        "import matplotlib.pyplot as plt\n",
        "import plotly.express as px\n",
        "import seaborn as sns\n",
        "\n"
      ],
      "metadata": {
        "id": "Yacwmr0bew4H"
      },
      "execution_count": 2,
      "outputs": []
    },
    {
      "cell_type": "code",
      "source": [],
      "metadata": {
        "id": "J3-LhJwkgMDR"
      },
      "execution_count": null,
      "outputs": []
    },
    {
      "cell_type": "markdown",
      "source": [
        "url =\n",
        "https://www.kaggle.com/datasets/utkarshtomar736/odi-mens-cricket-match-data-2002-2023"
      ],
      "metadata": {
        "id": "sVd9jIXkgJEj"
      }
    },
    {
      "cell_type": "code",
      "execution_count": 3,
      "metadata": {
        "id": "NvN4pB_xbhpB"
      },
      "outputs": [],
      "source": [
        "path=\"/content/drive/MyDrive/Colab Notebooks/ODI_Match_Data.csv\"\n",
        "match_data = pd.read_csv(path,low_memory=False, names=[\"batting_team\", \"bowling_team\", \"striker\", \"non_striker\", \"bowler\", \"runs_off_bat\", \"extras\", \"wides\", \"noballs\", \"byes\", \"legbyes\", \"penalty\", \"wicket_type\", \"player_dismissed\", \"other_wicket_type\", \"other_player_dismissed\", \"cricsheet_id\"])\n",
        "\n",
        "path=\"/content/drive/MyDrive/Colab Notebooks/ODI_Match_info.csv\"\n",
        "\n",
        "new_column_names = [\"id\", \"season\", \"city\", \"date\", \"team1\", \"team2\", \"toss_winner\", \"toss_decision\", \"result\", \"dl_applied\", \"winner\", \"win_by_runs\", \"win_by_wickets\", \"player_of_match\", \"venue\", \"umpire1\", \"umpire2\", \"umpire3\"]\n",
        "match_info = pd.read_csv(path, names=new_column_names)\n"
      ]
    },
    {
      "cell_type": "markdown",
      "source": [
        "lets work with match info first\n",
        "Data Manupulation"
      ],
      "metadata": {
        "id": "NPQWUhy-hRz8"
      }
    },
    {
      "cell_type": "code",
      "source": [
        "match_info.info()\n"
      ],
      "metadata": {
        "colab": {
          "base_uri": "https://localhost:8080/"
        },
        "id": "YkmdGBjaiOVz",
        "outputId": "6e8bf85f-2b86-4ed6-8e31-f7f9673ec9b5"
      },
      "execution_count": 4,
      "outputs": [
        {
          "output_type": "stream",
          "name": "stdout",
          "text": [
            "<class 'pandas.core.frame.DataFrame'>\n",
            "RangeIndex: 2380 entries, 0 to 2379\n",
            "Data columns (total 18 columns):\n",
            " #   Column           Non-Null Count  Dtype \n",
            "---  ------           --------------  ----- \n",
            " 0   id               2380 non-null   object\n",
            " 1   season           2380 non-null   object\n",
            " 2   city             2070 non-null   object\n",
            " 3   date             2380 non-null   object\n",
            " 4   team1            2380 non-null   object\n",
            " 5   team2            2380 non-null   object\n",
            " 6   toss_winner      2380 non-null   object\n",
            " 7   toss_decision    2380 non-null   object\n",
            " 8   result           2380 non-null   object\n",
            " 9   dl_applied       2380 non-null   object\n",
            " 10  winner           2260 non-null   object\n",
            " 11  win_by_runs      2380 non-null   object\n",
            " 12  win_by_wickets   2380 non-null   object\n",
            " 13  player_of_match  2229 non-null   object\n",
            " 14  venue            2380 non-null   object\n",
            " 15  umpire1          2380 non-null   object\n",
            " 16  umpire2          2380 non-null   object\n",
            " 17  umpire3          2098 non-null   object\n",
            "dtypes: object(18)\n",
            "memory usage: 334.8+ KB\n"
          ]
        }
      ]
    },
    {
      "cell_type": "code",
      "source": [
        "\n",
        "missing_values = match_info.isnull()\n",
        "missing_counts = missing_values.sum()\n",
        "print(missing_counts)"
      ],
      "metadata": {
        "colab": {
          "base_uri": "https://localhost:8080/"
        },
        "id": "7JxVWvzEevog",
        "outputId": "e8a4ae60-f68d-428e-b203-969322a3b1b9"
      },
      "execution_count": 5,
      "outputs": [
        {
          "output_type": "stream",
          "name": "stdout",
          "text": [
            "id                   0\n",
            "season               0\n",
            "city               310\n",
            "date                 0\n",
            "team1                0\n",
            "team2                0\n",
            "toss_winner          0\n",
            "toss_decision        0\n",
            "result               0\n",
            "dl_applied           0\n",
            "winner             120\n",
            "win_by_runs          0\n",
            "win_by_wickets       0\n",
            "player_of_match    151\n",
            "venue                0\n",
            "umpire1              0\n",
            "umpire2              0\n",
            "umpire3            282\n",
            "dtype: int64\n"
          ]
        }
      ]
    },
    {
      "cell_type": "markdown",
      "source": [
        "Lets Focus on India vs Australia\n",
        "---\n",
        "\n"
      ],
      "metadata": {
        "id": "Gs5UHknvi4jB"
      }
    },
    {
      "cell_type": "code",
      "source": [
        "\n",
        "match_info['date'] = pd.to_datetime(match_info['date'], format='%Y/%m/%d', errors='coerce')\n",
        "match_info['year'] = match_info['date'].dt.year\n",
        "filtered_data = match_info[(match_info['year'] <= 2021) & (match_info['year'] <= 2023)]\n",
        "team_data = filtered_data[(filtered_data['team1'].isin(['India', 'Australia'])) & (filtered_data['team2'].isin(['India', 'Australia']))]\n",
        "win_counts = team_data['winner'].value_counts().reset_index()\n",
        "win_counts.columns = ['Team', 'Wins']\n",
        "fig = px.pie(win_counts, names='Team', values='Wins', title='Wins in India vs. Australia Matches (2021-2022)')\n",
        "fig.show()\n",
        "\n",
        "\n",
        "\n",
        "\n",
        "\n",
        "\n",
        "\n"
      ],
      "metadata": {
        "colab": {
          "base_uri": "https://localhost:8080/",
          "height": 542
        },
        "id": "W3CYwDJBi4JN",
        "outputId": "042a6ef6-d4ea-4b2d-bd40-98319caae5c3"
      },
      "execution_count": 9,
      "outputs": [
        {
          "output_type": "display_data",
          "data": {
            "text/html": [
              "<html>\n",
              "<head><meta charset=\"utf-8\" /></head>\n",
              "<body>\n",
              "    <div>            <script src=\"https://cdnjs.cloudflare.com/ajax/libs/mathjax/2.7.5/MathJax.js?config=TeX-AMS-MML_SVG\"></script><script type=\"text/javascript\">if (window.MathJax && window.MathJax.Hub && window.MathJax.Hub.Config) {window.MathJax.Hub.Config({SVG: {font: \"STIX-Web\"}});}</script>                <script type=\"text/javascript\">window.PlotlyConfig = {MathJaxConfig: 'local'};</script>\n",
              "        <script charset=\"utf-8\" src=\"https://cdn.plot.ly/plotly-2.24.1.min.js\"></script>                <div id=\"e5cf40af-d2d9-4937-8a63-2c7d9142da23\" class=\"plotly-graph-div\" style=\"height:525px; width:100%;\"></div>            <script type=\"text/javascript\">                                    window.PLOTLYENV=window.PLOTLYENV || {};                                    if (document.getElementById(\"e5cf40af-d2d9-4937-8a63-2c7d9142da23\")) {                    Plotly.newPlot(                        \"e5cf40af-d2d9-4937-8a63-2c7d9142da23\",                        [{\"domain\":{\"x\":[0.0,1.0],\"y\":[0.0,1.0]},\"hovertemplate\":\"Team=%{label}\\u003cbr\\u003eWins=%{value}\\u003cextra\\u003e\\u003c\\u002fextra\\u003e\",\"labels\":[\"Australia\",\"India\"],\"legendgroup\":\"\",\"name\":\"\",\"showlegend\":true,\"values\":[39,28],\"type\":\"pie\"}],                        {\"template\":{\"data\":{\"histogram2dcontour\":[{\"type\":\"histogram2dcontour\",\"colorbar\":{\"outlinewidth\":0,\"ticks\":\"\"},\"colorscale\":[[0.0,\"#0d0887\"],[0.1111111111111111,\"#46039f\"],[0.2222222222222222,\"#7201a8\"],[0.3333333333333333,\"#9c179e\"],[0.4444444444444444,\"#bd3786\"],[0.5555555555555556,\"#d8576b\"],[0.6666666666666666,\"#ed7953\"],[0.7777777777777778,\"#fb9f3a\"],[0.8888888888888888,\"#fdca26\"],[1.0,\"#f0f921\"]]}],\"choropleth\":[{\"type\":\"choropleth\",\"colorbar\":{\"outlinewidth\":0,\"ticks\":\"\"}}],\"histogram2d\":[{\"type\":\"histogram2d\",\"colorbar\":{\"outlinewidth\":0,\"ticks\":\"\"},\"colorscale\":[[0.0,\"#0d0887\"],[0.1111111111111111,\"#46039f\"],[0.2222222222222222,\"#7201a8\"],[0.3333333333333333,\"#9c179e\"],[0.4444444444444444,\"#bd3786\"],[0.5555555555555556,\"#d8576b\"],[0.6666666666666666,\"#ed7953\"],[0.7777777777777778,\"#fb9f3a\"],[0.8888888888888888,\"#fdca26\"],[1.0,\"#f0f921\"]]}],\"heatmap\":[{\"type\":\"heatmap\",\"colorbar\":{\"outlinewidth\":0,\"ticks\":\"\"},\"colorscale\":[[0.0,\"#0d0887\"],[0.1111111111111111,\"#46039f\"],[0.2222222222222222,\"#7201a8\"],[0.3333333333333333,\"#9c179e\"],[0.4444444444444444,\"#bd3786\"],[0.5555555555555556,\"#d8576b\"],[0.6666666666666666,\"#ed7953\"],[0.7777777777777778,\"#fb9f3a\"],[0.8888888888888888,\"#fdca26\"],[1.0,\"#f0f921\"]]}],\"heatmapgl\":[{\"type\":\"heatmapgl\",\"colorbar\":{\"outlinewidth\":0,\"ticks\":\"\"},\"colorscale\":[[0.0,\"#0d0887\"],[0.1111111111111111,\"#46039f\"],[0.2222222222222222,\"#7201a8\"],[0.3333333333333333,\"#9c179e\"],[0.4444444444444444,\"#bd3786\"],[0.5555555555555556,\"#d8576b\"],[0.6666666666666666,\"#ed7953\"],[0.7777777777777778,\"#fb9f3a\"],[0.8888888888888888,\"#fdca26\"],[1.0,\"#f0f921\"]]}],\"contourcarpet\":[{\"type\":\"contourcarpet\",\"colorbar\":{\"outlinewidth\":0,\"ticks\":\"\"}}],\"contour\":[{\"type\":\"contour\",\"colorbar\":{\"outlinewidth\":0,\"ticks\":\"\"},\"colorscale\":[[0.0,\"#0d0887\"],[0.1111111111111111,\"#46039f\"],[0.2222222222222222,\"#7201a8\"],[0.3333333333333333,\"#9c179e\"],[0.4444444444444444,\"#bd3786\"],[0.5555555555555556,\"#d8576b\"],[0.6666666666666666,\"#ed7953\"],[0.7777777777777778,\"#fb9f3a\"],[0.8888888888888888,\"#fdca26\"],[1.0,\"#f0f921\"]]}],\"surface\":[{\"type\":\"surface\",\"colorbar\":{\"outlinewidth\":0,\"ticks\":\"\"},\"colorscale\":[[0.0,\"#0d0887\"],[0.1111111111111111,\"#46039f\"],[0.2222222222222222,\"#7201a8\"],[0.3333333333333333,\"#9c179e\"],[0.4444444444444444,\"#bd3786\"],[0.5555555555555556,\"#d8576b\"],[0.6666666666666666,\"#ed7953\"],[0.7777777777777778,\"#fb9f3a\"],[0.8888888888888888,\"#fdca26\"],[1.0,\"#f0f921\"]]}],\"mesh3d\":[{\"type\":\"mesh3d\",\"colorbar\":{\"outlinewidth\":0,\"ticks\":\"\"}}],\"scatter\":[{\"fillpattern\":{\"fillmode\":\"overlay\",\"size\":10,\"solidity\":0.2},\"type\":\"scatter\"}],\"parcoords\":[{\"type\":\"parcoords\",\"line\":{\"colorbar\":{\"outlinewidth\":0,\"ticks\":\"\"}}}],\"scatterpolargl\":[{\"type\":\"scatterpolargl\",\"marker\":{\"colorbar\":{\"outlinewidth\":0,\"ticks\":\"\"}}}],\"bar\":[{\"error_x\":{\"color\":\"#2a3f5f\"},\"error_y\":{\"color\":\"#2a3f5f\"},\"marker\":{\"line\":{\"color\":\"#E5ECF6\",\"width\":0.5},\"pattern\":{\"fillmode\":\"overlay\",\"size\":10,\"solidity\":0.2}},\"type\":\"bar\"}],\"scattergeo\":[{\"type\":\"scattergeo\",\"marker\":{\"colorbar\":{\"outlinewidth\":0,\"ticks\":\"\"}}}],\"scatterpolar\":[{\"type\":\"scatterpolar\",\"marker\":{\"colorbar\":{\"outlinewidth\":0,\"ticks\":\"\"}}}],\"histogram\":[{\"marker\":{\"pattern\":{\"fillmode\":\"overlay\",\"size\":10,\"solidity\":0.2}},\"type\":\"histogram\"}],\"scattergl\":[{\"type\":\"scattergl\",\"marker\":{\"colorbar\":{\"outlinewidth\":0,\"ticks\":\"\"}}}],\"scatter3d\":[{\"type\":\"scatter3d\",\"line\":{\"colorbar\":{\"outlinewidth\":0,\"ticks\":\"\"}},\"marker\":{\"colorbar\":{\"outlinewidth\":0,\"ticks\":\"\"}}}],\"scattermapbox\":[{\"type\":\"scattermapbox\",\"marker\":{\"colorbar\":{\"outlinewidth\":0,\"ticks\":\"\"}}}],\"scatterternary\":[{\"type\":\"scatterternary\",\"marker\":{\"colorbar\":{\"outlinewidth\":0,\"ticks\":\"\"}}}],\"scattercarpet\":[{\"type\":\"scattercarpet\",\"marker\":{\"colorbar\":{\"outlinewidth\":0,\"ticks\":\"\"}}}],\"carpet\":[{\"aaxis\":{\"endlinecolor\":\"#2a3f5f\",\"gridcolor\":\"white\",\"linecolor\":\"white\",\"minorgridcolor\":\"white\",\"startlinecolor\":\"#2a3f5f\"},\"baxis\":{\"endlinecolor\":\"#2a3f5f\",\"gridcolor\":\"white\",\"linecolor\":\"white\",\"minorgridcolor\":\"white\",\"startlinecolor\":\"#2a3f5f\"},\"type\":\"carpet\"}],\"table\":[{\"cells\":{\"fill\":{\"color\":\"#EBF0F8\"},\"line\":{\"color\":\"white\"}},\"header\":{\"fill\":{\"color\":\"#C8D4E3\"},\"line\":{\"color\":\"white\"}},\"type\":\"table\"}],\"barpolar\":[{\"marker\":{\"line\":{\"color\":\"#E5ECF6\",\"width\":0.5},\"pattern\":{\"fillmode\":\"overlay\",\"size\":10,\"solidity\":0.2}},\"type\":\"barpolar\"}],\"pie\":[{\"automargin\":true,\"type\":\"pie\"}]},\"layout\":{\"autotypenumbers\":\"strict\",\"colorway\":[\"#636efa\",\"#EF553B\",\"#00cc96\",\"#ab63fa\",\"#FFA15A\",\"#19d3f3\",\"#FF6692\",\"#B6E880\",\"#FF97FF\",\"#FECB52\"],\"font\":{\"color\":\"#2a3f5f\"},\"hovermode\":\"closest\",\"hoverlabel\":{\"align\":\"left\"},\"paper_bgcolor\":\"white\",\"plot_bgcolor\":\"#E5ECF6\",\"polar\":{\"bgcolor\":\"#E5ECF6\",\"angularaxis\":{\"gridcolor\":\"white\",\"linecolor\":\"white\",\"ticks\":\"\"},\"radialaxis\":{\"gridcolor\":\"white\",\"linecolor\":\"white\",\"ticks\":\"\"}},\"ternary\":{\"bgcolor\":\"#E5ECF6\",\"aaxis\":{\"gridcolor\":\"white\",\"linecolor\":\"white\",\"ticks\":\"\"},\"baxis\":{\"gridcolor\":\"white\",\"linecolor\":\"white\",\"ticks\":\"\"},\"caxis\":{\"gridcolor\":\"white\",\"linecolor\":\"white\",\"ticks\":\"\"}},\"coloraxis\":{\"colorbar\":{\"outlinewidth\":0,\"ticks\":\"\"}},\"colorscale\":{\"sequential\":[[0.0,\"#0d0887\"],[0.1111111111111111,\"#46039f\"],[0.2222222222222222,\"#7201a8\"],[0.3333333333333333,\"#9c179e\"],[0.4444444444444444,\"#bd3786\"],[0.5555555555555556,\"#d8576b\"],[0.6666666666666666,\"#ed7953\"],[0.7777777777777778,\"#fb9f3a\"],[0.8888888888888888,\"#fdca26\"],[1.0,\"#f0f921\"]],\"sequentialminus\":[[0.0,\"#0d0887\"],[0.1111111111111111,\"#46039f\"],[0.2222222222222222,\"#7201a8\"],[0.3333333333333333,\"#9c179e\"],[0.4444444444444444,\"#bd3786\"],[0.5555555555555556,\"#d8576b\"],[0.6666666666666666,\"#ed7953\"],[0.7777777777777778,\"#fb9f3a\"],[0.8888888888888888,\"#fdca26\"],[1.0,\"#f0f921\"]],\"diverging\":[[0,\"#8e0152\"],[0.1,\"#c51b7d\"],[0.2,\"#de77ae\"],[0.3,\"#f1b6da\"],[0.4,\"#fde0ef\"],[0.5,\"#f7f7f7\"],[0.6,\"#e6f5d0\"],[0.7,\"#b8e186\"],[0.8,\"#7fbc41\"],[0.9,\"#4d9221\"],[1,\"#276419\"]]},\"xaxis\":{\"gridcolor\":\"white\",\"linecolor\":\"white\",\"ticks\":\"\",\"title\":{\"standoff\":15},\"zerolinecolor\":\"white\",\"automargin\":true,\"zerolinewidth\":2},\"yaxis\":{\"gridcolor\":\"white\",\"linecolor\":\"white\",\"ticks\":\"\",\"title\":{\"standoff\":15},\"zerolinecolor\":\"white\",\"automargin\":true,\"zerolinewidth\":2},\"scene\":{\"xaxis\":{\"backgroundcolor\":\"#E5ECF6\",\"gridcolor\":\"white\",\"linecolor\":\"white\",\"showbackground\":true,\"ticks\":\"\",\"zerolinecolor\":\"white\",\"gridwidth\":2},\"yaxis\":{\"backgroundcolor\":\"#E5ECF6\",\"gridcolor\":\"white\",\"linecolor\":\"white\",\"showbackground\":true,\"ticks\":\"\",\"zerolinecolor\":\"white\",\"gridwidth\":2},\"zaxis\":{\"backgroundcolor\":\"#E5ECF6\",\"gridcolor\":\"white\",\"linecolor\":\"white\",\"showbackground\":true,\"ticks\":\"\",\"zerolinecolor\":\"white\",\"gridwidth\":2}},\"shapedefaults\":{\"line\":{\"color\":\"#2a3f5f\"}},\"annotationdefaults\":{\"arrowcolor\":\"#2a3f5f\",\"arrowhead\":0,\"arrowwidth\":1},\"geo\":{\"bgcolor\":\"white\",\"landcolor\":\"#E5ECF6\",\"subunitcolor\":\"white\",\"showland\":true,\"showlakes\":true,\"lakecolor\":\"white\"},\"title\":{\"x\":0.05},\"mapbox\":{\"style\":\"light\"}}},\"legend\":{\"tracegroupgap\":0},\"title\":{\"text\":\"Wins in India vs. Australia Matches (2021-2022)\"}},                        {\"responsive\": true}                    ).then(function(){\n",
              "                            \n",
              "var gd = document.getElementById('e5cf40af-d2d9-4937-8a63-2c7d9142da23');\n",
              "var x = new MutationObserver(function (mutations, observer) {{\n",
              "        var display = window.getComputedStyle(gd).display;\n",
              "        if (!display || display === 'none') {{\n",
              "            console.log([gd, 'removed!']);\n",
              "            Plotly.purge(gd);\n",
              "            observer.disconnect();\n",
              "        }}\n",
              "}});\n",
              "\n",
              "// Listen for the removal of the full notebook cells\n",
              "var notebookContainer = gd.closest('#notebook-container');\n",
              "if (notebookContainer) {{\n",
              "    x.observe(notebookContainer, {childList: true});\n",
              "}}\n",
              "\n",
              "// Listen for the clearing of the current output cell\n",
              "var outputEl = gd.closest('.output');\n",
              "if (outputEl) {{\n",
              "    x.observe(outputEl, {childList: true});\n",
              "}}\n",
              "\n",
              "                        })                };                            </script>        </div>\n",
              "</body>\n",
              "</html>"
            ]
          },
          "metadata": {}
        }
      ]
    },
    {
      "cell_type": "code",
      "source": [
        "import pandas as pd\n",
        "\n",
        "\n",
        "india_vs_aus_matches = match_info[(match_info['team1'].isin(['India', 'Australia'])) & (match_info['team2'].isin(['India', 'Australia']))]\n",
        "man_of_the_match_counts = india_vs_aus_matches['player_of_match'].value_counts().reset_index()\n",
        "man_of_the_match_counts.columns = ['Player', 'Man of the Match Awards']\n",
        "most_man_of_the_match_awards = man_of_the_match_counts.iloc[0]\n",
        "print(\"Player with the Most 'Man of the Match' Awards in India vs. Australia Matches:\")\n",
        "print(most_man_of_the_match_awards)\n"
      ],
      "metadata": {
        "colab": {
          "base_uri": "https://localhost:8080/"
        },
        "id": "ZSyNmEhRxcM8",
        "outputId": "a5c3d1e0-7ac4-4edc-f01e-88b4d52cc891"
      },
      "execution_count": 10,
      "outputs": [
        {
          "output_type": "stream",
          "name": "stdout",
          "text": [
            "Player with the Most 'Man of the Match' Awards in India vs. Australia Matches:\n",
            "Player                     V Kohli\n",
            "Man of the Match Awards          5\n",
            "Name: 0, dtype: object\n"
          ]
        }
      ]
    },
    {
      "cell_type": "code",
      "source": [
        "india_vs_aus_matches = match_info[\n",
        "    (match_info['team1'].isin(['India', 'Australia'])) &\n",
        "    (match_info['team2'].isin(['India', 'Australia']))\n",
        "]\n",
        "\n",
        "\n",
        "india_vs_aus_matches.dropna(subset=['venue', 'toss_decision', 'winner', 'result'], inplace=True)\n",
        "pivot_table = india_vs_aus_matches.pivot_table(\n",
        "    index=['venue', 'toss_decision'],\n",
        "    columns='winner',\n",
        "    values='result',\n",
        "    aggfunc='count',\n",
        "    fill_value=0\n",
        ")\n",
        "pivot_table_style = pivot_table.style.highlight_max(axis=0, color='lightgreen')\n",
        "pivot_table_style\n"
      ],
      "metadata": {
        "colab": {
          "base_uri": "https://localhost:8080/",
          "height": 1000
        },
        "id": "6aQ64q7Tx_bp",
        "outputId": "b1d90a1a-590b-4ef5-c7e0-2bf71a2ba80c"
      },
      "execution_count": 13,
      "outputs": [
        {
          "output_type": "stream",
          "name": "stderr",
          "text": [
            "<ipython-input-13-4898b668c4f1>:7: SettingWithCopyWarning:\n",
            "\n",
            "\n",
            "A value is trying to be set on a copy of a slice from a DataFrame\n",
            "\n",
            "See the caveats in the documentation: https://pandas.pydata.org/pandas-docs/stable/user_guide/indexing.html#returning-a-view-versus-a-copy\n",
            "\n"
          ]
        },
        {
          "output_type": "execute_result",
          "data": {
            "text/plain": [
              "<pandas.io.formats.style.Styler at 0x7f6222dbdbd0>"
            ],
            "text/html": [
              "<style type=\"text/css\">\n",
              "#T_e300d_row36_col0, #T_e300d_row40_col1 {\n",
              "  background-color: lightgreen;\n",
              "}\n",
              "</style>\n",
              "<table id=\"T_e300d\" class=\"dataframe\">\n",
              "  <thead>\n",
              "    <tr>\n",
              "      <th class=\"blank\" >&nbsp;</th>\n",
              "      <th class=\"index_name level0\" >winner</th>\n",
              "      <th id=\"T_e300d_level0_col0\" class=\"col_heading level0 col0\" >Australia</th>\n",
              "      <th id=\"T_e300d_level0_col1\" class=\"col_heading level0 col1\" >India</th>\n",
              "    </tr>\n",
              "    <tr>\n",
              "      <th class=\"index_name level0\" >venue</th>\n",
              "      <th class=\"index_name level1\" >toss_decision</th>\n",
              "      <th class=\"blank col0\" >&nbsp;</th>\n",
              "      <th class=\"blank col1\" >&nbsp;</th>\n",
              "    </tr>\n",
              "  </thead>\n",
              "  <tbody>\n",
              "    <tr>\n",
              "      <th id=\"T_e300d_level0_row0\" class=\"row_heading level0 row0\" >Adelaide Oval</th>\n",
              "      <th id=\"T_e300d_level1_row0\" class=\"row_heading level1 row0\" >bat</th>\n",
              "      <td id=\"T_e300d_row0_col0\" class=\"data row0 col0\" >1</td>\n",
              "      <td id=\"T_e300d_row0_col1\" class=\"data row0 col1\" >2</td>\n",
              "    </tr>\n",
              "    <tr>\n",
              "      <th id=\"T_e300d_level0_row1\" class=\"row_heading level0 row1\" >Arun Jaitley Stadium</th>\n",
              "      <th id=\"T_e300d_level1_row1\" class=\"row_heading level1 row1\" >bat</th>\n",
              "      <td id=\"T_e300d_row1_col0\" class=\"data row1 col0\" >1</td>\n",
              "      <td id=\"T_e300d_row1_col1\" class=\"data row1 col1\" >0</td>\n",
              "    </tr>\n",
              "    <tr>\n",
              "      <th id=\"T_e300d_level0_row2\" class=\"row_heading level0 row2\" >Brisbane Cricket Ground</th>\n",
              "      <th id=\"T_e300d_level1_row2\" class=\"row_heading level1 row2\" >bat</th>\n",
              "      <td id=\"T_e300d_row2_col0\" class=\"data row2 col0\" >0</td>\n",
              "      <td id=\"T_e300d_row2_col1\" class=\"data row2 col1\" >1</td>\n",
              "    </tr>\n",
              "    <tr>\n",
              "      <th id=\"T_e300d_level0_row3\" class=\"row_heading level0 row3\" >Brisbane Cricket Ground, Woolloongabba</th>\n",
              "      <th id=\"T_e300d_level1_row3\" class=\"row_heading level1 row3\" >bat</th>\n",
              "      <td id=\"T_e300d_row3_col0\" class=\"data row3 col0\" >2</td>\n",
              "      <td id=\"T_e300d_row3_col1\" class=\"data row3 col1\" >1</td>\n",
              "    </tr>\n",
              "    <tr>\n",
              "      <th id=\"T_e300d_level0_row4\" class=\"row_heading level0 row4\" >Captain Roop Singh Stadium, Gwalior</th>\n",
              "      <th id=\"T_e300d_level1_row4\" class=\"row_heading level1 row4\" >bat</th>\n",
              "      <td id=\"T_e300d_row4_col0\" class=\"data row4 col0\" >0</td>\n",
              "      <td id=\"T_e300d_row4_col1\" class=\"data row4 col1\" >1</td>\n",
              "    </tr>\n",
              "    <tr>\n",
              "      <th id=\"T_e300d_level0_row5\" class=\"row_heading level0 row5\" >Dr. Y.S. Rajasekhara Reddy ACA-VDCA Cricket Stadium</th>\n",
              "      <th id=\"T_e300d_level1_row5\" class=\"row_heading level1 row5\" >field</th>\n",
              "      <td id=\"T_e300d_row5_col0\" class=\"data row5 col0\" >0</td>\n",
              "      <td id=\"T_e300d_row5_col1\" class=\"data row5 col1\" >1</td>\n",
              "    </tr>\n",
              "    <tr>\n",
              "      <th id=\"T_e300d_level0_row6\" class=\"row_heading level0 row6\" >Dr. Y.S. Rajasekhara Reddy ACA-VDCA Cricket Stadium, Visakhapatnam</th>\n",
              "      <th id=\"T_e300d_level1_row6\" class=\"row_heading level1 row6\" >field</th>\n",
              "      <td id=\"T_e300d_row6_col0\" class=\"data row6 col0\" >1</td>\n",
              "      <td id=\"T_e300d_row6_col1\" class=\"data row6 col1\" >0</td>\n",
              "    </tr>\n",
              "    <tr>\n",
              "      <th id=\"T_e300d_level0_row7\" class=\"row_heading level0 row7\" >Eden Gardens</th>\n",
              "      <th id=\"T_e300d_level1_row7\" class=\"row_heading level1 row7\" >bat</th>\n",
              "      <td id=\"T_e300d_row7_col0\" class=\"data row7 col0\" >0</td>\n",
              "      <td id=\"T_e300d_row7_col1\" class=\"data row7 col1\" >1</td>\n",
              "    </tr>\n",
              "    <tr>\n",
              "      <th id=\"T_e300d_level0_row8\" class=\"row_heading level0 row8\" >Feroz Shah Kotla</th>\n",
              "      <th id=\"T_e300d_level1_row8\" class=\"row_heading level1 row8\" >bat</th>\n",
              "      <td id=\"T_e300d_row8_col0\" class=\"data row8 col0\" >0</td>\n",
              "      <td id=\"T_e300d_row8_col1\" class=\"data row8 col1\" >1</td>\n",
              "    </tr>\n",
              "    <tr>\n",
              "      <th id=\"T_e300d_level0_row9\" class=\"row_heading level0 row9\" >Holkar Cricket Stadium</th>\n",
              "      <th id=\"T_e300d_level1_row9\" class=\"row_heading level1 row9\" >bat</th>\n",
              "      <td id=\"T_e300d_row9_col0\" class=\"data row9 col0\" >0</td>\n",
              "      <td id=\"T_e300d_row9_col1\" class=\"data row9 col1\" >1</td>\n",
              "    </tr>\n",
              "    <tr>\n",
              "      <th id=\"T_e300d_level0_row10\" class=\"row_heading level0 row10\" >Holkar Cricket Stadium, Indore</th>\n",
              "      <th id=\"T_e300d_level1_row10\" class=\"row_heading level1 row10\" >field</th>\n",
              "      <td id=\"T_e300d_row10_col0\" class=\"data row10 col0\" >0</td>\n",
              "      <td id=\"T_e300d_row10_col1\" class=\"data row10 col1\" >1</td>\n",
              "    </tr>\n",
              "    <tr>\n",
              "      <th id=\"T_e300d_level0_row11\" class=\"row_heading level0 row11\" >JSCA International Stadium Complex</th>\n",
              "      <th id=\"T_e300d_level1_row11\" class=\"row_heading level1 row11\" >field</th>\n",
              "      <td id=\"T_e300d_row11_col0\" class=\"data row11 col0\" >1</td>\n",
              "      <td id=\"T_e300d_row11_col1\" class=\"data row11 col1\" >0</td>\n",
              "    </tr>\n",
              "    <tr>\n",
              "      <th id=\"T_e300d_level0_row12\" class=\"row_heading level0 row12\" >Kennington Oval</th>\n",
              "      <th id=\"T_e300d_level1_row12\" class=\"row_heading level1 row12\" >bat</th>\n",
              "      <td id=\"T_e300d_row12_col0\" class=\"data row12 col0\" >0</td>\n",
              "      <td id=\"T_e300d_row12_col1\" class=\"data row12 col1\" >1</td>\n",
              "    </tr>\n",
              "    <tr>\n",
              "      <th id=\"T_e300d_level0_row13\" class=\"row_heading level0 row13\" >Kinrara Academy Oval</th>\n",
              "      <th id=\"T_e300d_level1_row13\" class=\"row_heading level1 row13\" >bat</th>\n",
              "      <td id=\"T_e300d_row13_col0\" class=\"data row13 col0\" >1</td>\n",
              "      <td id=\"T_e300d_row13_col1\" class=\"data row13 col1\" >0</td>\n",
              "    </tr>\n",
              "    <tr>\n",
              "      <th id=\"T_e300d_level0_row14\" class=\"row_heading level0 row14\" >M Chinnaswamy Stadium</th>\n",
              "      <th id=\"T_e300d_level1_row14\" class=\"row_heading level1 row14\" >field</th>\n",
              "      <td id=\"T_e300d_row14_col0\" class=\"data row14 col0\" >0</td>\n",
              "      <td id=\"T_e300d_row14_col1\" class=\"data row14 col1\" >1</td>\n",
              "    </tr>\n",
              "    <tr>\n",
              "      <th id=\"T_e300d_level0_row15\" class=\"row_heading level0 row15\" >M.Chinnaswamy Stadium</th>\n",
              "      <th id=\"T_e300d_level1_row15\" class=\"row_heading level1 row15\" >bat</th>\n",
              "      <td id=\"T_e300d_row15_col0\" class=\"data row15 col0\" >1</td>\n",
              "      <td id=\"T_e300d_row15_col1\" class=\"data row15 col1\" >1</td>\n",
              "    </tr>\n",
              "    <tr>\n",
              "      <th id=\"T_e300d_level0_row16\" class=\"row_heading level0 row16\" >MA Chidambaram Stadium, Chepauk</th>\n",
              "      <th id=\"T_e300d_level1_row16\" class=\"row_heading level1 row16\" >bat</th>\n",
              "      <td id=\"T_e300d_row16_col0\" class=\"data row16 col0\" >0</td>\n",
              "      <td id=\"T_e300d_row16_col1\" class=\"data row16 col1\" >1</td>\n",
              "    </tr>\n",
              "    <tr>\n",
              "      <th id=\"T_e300d_level0_row17\" class=\"row_heading level0 row17\" >MA Chidambaram Stadium, Chepauk, Chennai</th>\n",
              "      <th id=\"T_e300d_level1_row17\" class=\"row_heading level1 row17\" >bat</th>\n",
              "      <td id=\"T_e300d_row17_col0\" class=\"data row17 col0\" >1</td>\n",
              "      <td id=\"T_e300d_row17_col1\" class=\"data row17 col1\" >0</td>\n",
              "    </tr>\n",
              "    <tr>\n",
              "      <th id=\"T_e300d_level0_row18\" class=\"row_heading level0 row18\" >Maharashtra Cricket Association Stadium</th>\n",
              "      <th id=\"T_e300d_level1_row18\" class=\"row_heading level1 row18\" >bat</th>\n",
              "      <td id=\"T_e300d_row18_col0\" class=\"data row18 col0\" >1</td>\n",
              "      <td id=\"T_e300d_row18_col1\" class=\"data row18 col1\" >0</td>\n",
              "    </tr>\n",
              "    <tr>\n",
              "      <th id=\"T_e300d_level0_row19\" class=\"row_heading level0 row19\" >Manuka Oval</th>\n",
              "      <th id=\"T_e300d_level1_row19\" class=\"row_heading level1 row19\" >bat</th>\n",
              "      <td id=\"T_e300d_row19_col0\" class=\"data row19 col0\" >1</td>\n",
              "      <td id=\"T_e300d_row19_col1\" class=\"data row19 col1\" >1</td>\n",
              "    </tr>\n",
              "    <tr>\n",
              "      <th id=\"T_e300d_level0_row20\" class=\"row_heading level0 row20\" rowspan=\"2\">Melbourne Cricket Ground</th>\n",
              "      <th id=\"T_e300d_level1_row20\" class=\"row_heading level1 row20\" >bat</th>\n",
              "      <td id=\"T_e300d_row20_col0\" class=\"data row20 col0\" >3</td>\n",
              "      <td id=\"T_e300d_row20_col1\" class=\"data row20 col1\" >1</td>\n",
              "    </tr>\n",
              "    <tr>\n",
              "      <th id=\"T_e300d_level1_row21\" class=\"row_heading level1 row21\" >field</th>\n",
              "      <td id=\"T_e300d_row21_col0\" class=\"data row21 col0\" >2</td>\n",
              "      <td id=\"T_e300d_row21_col1\" class=\"data row21 col1\" >1</td>\n",
              "    </tr>\n",
              "    <tr>\n",
              "      <th id=\"T_e300d_level0_row22\" class=\"row_heading level0 row22\" rowspan=\"2\">Nehru Stadium</th>\n",
              "      <th id=\"T_e300d_level1_row22\" class=\"row_heading level1 row22\" >bat</th>\n",
              "      <td id=\"T_e300d_row22_col0\" class=\"data row22 col0\" >1</td>\n",
              "      <td id=\"T_e300d_row22_col1\" class=\"data row22 col1\" >0</td>\n",
              "    </tr>\n",
              "    <tr>\n",
              "      <th id=\"T_e300d_level1_row23\" class=\"row_heading level1 row23\" >field</th>\n",
              "      <td id=\"T_e300d_row23_col0\" class=\"data row23 col0\" >1</td>\n",
              "      <td id=\"T_e300d_row23_col1\" class=\"data row23 col1\" >0</td>\n",
              "    </tr>\n",
              "    <tr>\n",
              "      <th id=\"T_e300d_level0_row24\" class=\"row_heading level0 row24\" >New Wanderers Stadium, Johannesburg</th>\n",
              "      <th id=\"T_e300d_level1_row24\" class=\"row_heading level1 row24\" >field</th>\n",
              "      <td id=\"T_e300d_row24_col0\" class=\"data row24 col0\" >1</td>\n",
              "      <td id=\"T_e300d_row24_col1\" class=\"data row24 col1\" >0</td>\n",
              "    </tr>\n",
              "    <tr>\n",
              "      <th id=\"T_e300d_level0_row25\" class=\"row_heading level0 row25\" >Punjab Cricket Association IS Bindra Stadium, Mohali</th>\n",
              "      <th id=\"T_e300d_level1_row25\" class=\"row_heading level1 row25\" >bat</th>\n",
              "      <td id=\"T_e300d_row25_col0\" class=\"data row25 col0\" >1</td>\n",
              "      <td id=\"T_e300d_row25_col1\" class=\"data row25 col1\" >0</td>\n",
              "    </tr>\n",
              "    <tr>\n",
              "      <th id=\"T_e300d_level0_row26\" class=\"row_heading level0 row26\" >Punjab Cricket Association IS Bindra Stadium, Mohali, Chandigarh</th>\n",
              "      <th id=\"T_e300d_level1_row26\" class=\"row_heading level1 row26\" >field</th>\n",
              "      <td id=\"T_e300d_row26_col0\" class=\"data row26 col0\" >0</td>\n",
              "      <td id=\"T_e300d_row26_col1\" class=\"data row26 col1\" >1</td>\n",
              "    </tr>\n",
              "    <tr>\n",
              "      <th id=\"T_e300d_level0_row27\" class=\"row_heading level0 row27\" rowspan=\"2\">Punjab Cricket Association Stadium, Mohali</th>\n",
              "      <th id=\"T_e300d_level1_row27\" class=\"row_heading level1 row27\" >bat</th>\n",
              "      <td id=\"T_e300d_row27_col0\" class=\"data row27 col0\" >1</td>\n",
              "      <td id=\"T_e300d_row27_col1\" class=\"data row27 col1\" >0</td>\n",
              "    </tr>\n",
              "    <tr>\n",
              "      <th id=\"T_e300d_level1_row28\" class=\"row_heading level1 row28\" >field</th>\n",
              "      <td id=\"T_e300d_row28_col0\" class=\"data row28 col0\" >2</td>\n",
              "      <td id=\"T_e300d_row28_col1\" class=\"data row28 col1\" >0</td>\n",
              "    </tr>\n",
              "    <tr>\n",
              "      <th id=\"T_e300d_level0_row29\" class=\"row_heading level0 row29\" >Rajiv Gandhi International Stadium, Uppal</th>\n",
              "      <th id=\"T_e300d_level1_row29\" class=\"row_heading level1 row29\" >bat</th>\n",
              "      <td id=\"T_e300d_row29_col0\" class=\"data row29 col0\" >2</td>\n",
              "      <td id=\"T_e300d_row29_col1\" class=\"data row29 col1\" >1</td>\n",
              "    </tr>\n",
              "    <tr>\n",
              "      <th id=\"T_e300d_level0_row30\" class=\"row_heading level0 row30\" >Reliance Stadium</th>\n",
              "      <th id=\"T_e300d_level1_row30\" class=\"row_heading level1 row30\" >bat</th>\n",
              "      <td id=\"T_e300d_row30_col0\" class=\"data row30 col0\" >2</td>\n",
              "      <td id=\"T_e300d_row30_col1\" class=\"data row30 col1\" >0</td>\n",
              "    </tr>\n",
              "    <tr>\n",
              "      <th id=\"T_e300d_level0_row31\" class=\"row_heading level0 row31\" >Sardar Patel Stadium, Motera</th>\n",
              "      <th id=\"T_e300d_level1_row31\" class=\"row_heading level1 row31\" >bat</th>\n",
              "      <td id=\"T_e300d_row31_col0\" class=\"data row31 col0\" >0</td>\n",
              "      <td id=\"T_e300d_row31_col1\" class=\"data row31 col1\" >1</td>\n",
              "    </tr>\n",
              "    <tr>\n",
              "      <th id=\"T_e300d_level0_row32\" class=\"row_heading level0 row32\" >Saurashtra Cricket Association Stadium</th>\n",
              "      <th id=\"T_e300d_level1_row32\" class=\"row_heading level1 row32\" >field</th>\n",
              "      <td id=\"T_e300d_row32_col0\" class=\"data row32 col0\" >0</td>\n",
              "      <td id=\"T_e300d_row32_col1\" class=\"data row32 col1\" >1</td>\n",
              "    </tr>\n",
              "    <tr>\n",
              "      <th id=\"T_e300d_level0_row33\" class=\"row_heading level0 row33\" >Sawai Mansingh Stadium</th>\n",
              "      <th id=\"T_e300d_level1_row33\" class=\"row_heading level1 row33\" >bat</th>\n",
              "      <td id=\"T_e300d_row33_col0\" class=\"data row33 col0\" >0</td>\n",
              "      <td id=\"T_e300d_row33_col1\" class=\"data row33 col1\" >1</td>\n",
              "    </tr>\n",
              "    <tr>\n",
              "      <th id=\"T_e300d_level0_row34\" class=\"row_heading level0 row34\" >Sector 16 Stadium</th>\n",
              "      <th id=\"T_e300d_level1_row34\" class=\"row_heading level1 row34\" >bat</th>\n",
              "      <td id=\"T_e300d_row34_col0\" class=\"data row34 col0\" >0</td>\n",
              "      <td id=\"T_e300d_row34_col1\" class=\"data row34 col1\" >1</td>\n",
              "    </tr>\n",
              "    <tr>\n",
              "      <th id=\"T_e300d_level0_row35\" class=\"row_heading level0 row35\" >SuperSport Park, Centurion</th>\n",
              "      <th id=\"T_e300d_level1_row35\" class=\"row_heading level1 row35\" >bat</th>\n",
              "      <td id=\"T_e300d_row35_col0\" class=\"data row35 col0\" >1</td>\n",
              "      <td id=\"T_e300d_row35_col1\" class=\"data row35 col1\" >0</td>\n",
              "    </tr>\n",
              "    <tr>\n",
              "      <th id=\"T_e300d_level0_row36\" class=\"row_heading level0 row36\" rowspan=\"2\">Sydney Cricket Ground</th>\n",
              "      <th id=\"T_e300d_level1_row36\" class=\"row_heading level1 row36\" >bat</th>\n",
              "      <td id=\"T_e300d_row36_col0\" class=\"data row36 col0\" >8</td>\n",
              "      <td id=\"T_e300d_row36_col1\" class=\"data row36 col1\" >1</td>\n",
              "    </tr>\n",
              "    <tr>\n",
              "      <th id=\"T_e300d_level1_row37\" class=\"row_heading level1 row37\" >field</th>\n",
              "      <td id=\"T_e300d_row37_col0\" class=\"data row37 col0\" >0</td>\n",
              "      <td id=\"T_e300d_row37_col1\" class=\"data row37 col1\" >1</td>\n",
              "    </tr>\n",
              "    <tr>\n",
              "      <th id=\"T_e300d_level0_row38\" class=\"row_heading level0 row38\" >Vidarbha Cricket Association Ground</th>\n",
              "      <th id=\"T_e300d_level1_row38\" class=\"row_heading level1 row38\" >bat</th>\n",
              "      <td id=\"T_e300d_row38_col0\" class=\"data row38 col0\" >1</td>\n",
              "      <td id=\"T_e300d_row38_col1\" class=\"data row38 col1\" >0</td>\n",
              "    </tr>\n",
              "    <tr>\n",
              "      <th id=\"T_e300d_level0_row39\" class=\"row_heading level0 row39\" rowspan=\"2\">Vidarbha Cricket Association Stadium, Jamtha</th>\n",
              "      <th id=\"T_e300d_level1_row39\" class=\"row_heading level1 row39\" >bat</th>\n",
              "      <td id=\"T_e300d_row39_col0\" class=\"data row39 col0\" >0</td>\n",
              "      <td id=\"T_e300d_row39_col1\" class=\"data row39 col1\" >1</td>\n",
              "    </tr>\n",
              "    <tr>\n",
              "      <th id=\"T_e300d_level1_row40\" class=\"row_heading level1 row40\" >field</th>\n",
              "      <td id=\"T_e300d_row40_col0\" class=\"data row40 col0\" >0</td>\n",
              "      <td id=\"T_e300d_row40_col1\" class=\"data row40 col1\" >3</td>\n",
              "    </tr>\n",
              "    <tr>\n",
              "      <th id=\"T_e300d_level0_row41\" class=\"row_heading level0 row41\" >W.A.C.A. Ground</th>\n",
              "      <th id=\"T_e300d_level1_row41\" class=\"row_heading level1 row41\" >bat</th>\n",
              "      <td id=\"T_e300d_row41_col0\" class=\"data row41 col0\" >1</td>\n",
              "      <td id=\"T_e300d_row41_col1\" class=\"data row41 col1\" >0</td>\n",
              "    </tr>\n",
              "    <tr>\n",
              "      <th id=\"T_e300d_level0_row42\" class=\"row_heading level0 row42\" rowspan=\"2\">Wankhede Stadium</th>\n",
              "      <th id=\"T_e300d_level1_row42\" class=\"row_heading level1 row42\" >bat</th>\n",
              "      <td id=\"T_e300d_row42_col0\" class=\"data row42 col0\" >0</td>\n",
              "      <td id=\"T_e300d_row42_col1\" class=\"data row42 col1\" >1</td>\n",
              "    </tr>\n",
              "    <tr>\n",
              "      <th id=\"T_e300d_level1_row43\" class=\"row_heading level1 row43\" >field</th>\n",
              "      <td id=\"T_e300d_row43_col0\" class=\"data row43 col0\" >1</td>\n",
              "      <td id=\"T_e300d_row43_col1\" class=\"data row43 col1\" >0</td>\n",
              "    </tr>\n",
              "    <tr>\n",
              "      <th id=\"T_e300d_level0_row44\" class=\"row_heading level0 row44\" rowspan=\"2\">Wankhede Stadium, Mumbai</th>\n",
              "      <th id=\"T_e300d_level1_row44\" class=\"row_heading level1 row44\" >bat</th>\n",
              "      <td id=\"T_e300d_row44_col0\" class=\"data row44 col0\" >1</td>\n",
              "      <td id=\"T_e300d_row44_col1\" class=\"data row44 col1\" >0</td>\n",
              "    </tr>\n",
              "    <tr>\n",
              "      <th id=\"T_e300d_level1_row45\" class=\"row_heading level1 row45\" >field</th>\n",
              "      <td id=\"T_e300d_row45_col0\" class=\"data row45 col0\" >0</td>\n",
              "      <td id=\"T_e300d_row45_col1\" class=\"data row45 col1\" >1</td>\n",
              "    </tr>\n",
              "    <tr>\n",
              "      <th id=\"T_e300d_level0_row46\" class=\"row_heading level0 row46\" >Western Australia Cricket Association Ground</th>\n",
              "      <th id=\"T_e300d_level1_row46\" class=\"row_heading level1 row46\" >bat</th>\n",
              "      <td id=\"T_e300d_row46_col0\" class=\"data row46 col0\" >1</td>\n",
              "      <td id=\"T_e300d_row46_col1\" class=\"data row46 col1\" >0</td>\n",
              "    </tr>\n",
              "  </tbody>\n",
              "</table>\n"
            ]
          },
          "metadata": {},
          "execution_count": 13
        }
      ]
    },
    {
      "cell_type": "markdown",
      "source": [
        "Batting Performance"
      ],
      "metadata": {
        "id": "p3zI-f9Jzo2k"
      }
    }
  ]
}